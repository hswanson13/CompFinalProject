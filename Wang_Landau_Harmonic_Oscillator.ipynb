{
 "cells": [
  {
   "cell_type": "code",
   "execution_count": 1,
   "id": "c2ecbbe4",
   "metadata": {},
   "outputs": [],
   "source": [
    "import numpy as np\n",
    "import matplotlib.pyplot as plt"
   ]
  },
  {
   "cell_type": "code",
   "execution_count": 138,
   "id": "ede45b5c",
   "metadata": {},
   "outputs": [],
   "source": [
    "def Energy(lat,J=1):\n",
    "    #J=1\n",
    "    #sigma = spins, indices refer to spin in array\n",
    "    return sum([-J*lat[(i-1)]*lat[i] for i in range(0,len(lat))])\n",
    "\n",
    "N=16 #atoms\n",
    "lattice = 2*np.random.randint(2,size=(1,N))[0]-1   #1 for up,-1 for down\n",
    "\n",
    "E_curr = Energy(lattice)\n",
    "\n",
    "#getting spectrum of energies for 1D lattice\n",
    "# config = np.array([1]*N)\n",
    "# Emin = float(Energy(config))\n",
    "# config[::2] = -1 #now make them every other for max energy\n",
    "# Emax = float(Energy(config))\n",
    "E_spectrum = np.arange(-float(N),float(N+4),4)\n",
    "\n",
    "#density of states has form of energy spectrum!\n",
    "log_g = np.zeros_like(E_spectrum) #would be all 0, starting g at 1\n",
    "\n",
    "#initialize histogram -> what will be judged if flat\n",
    "histogram = np.zeros_like(E_spectrum)\n",
    "\n",
    "#modification factor\n",
    "f = 1 #ln(e) = 1\n",
    "while f>10**-8:\n",
    "    #chooose random energy\n",
    "    proposed_bit = np.random.randint(0,N)\n",
    "    \n",
    "    lattice[proposed_bit] = lattice[proposed_bit]*-1\n",
    "    E_proposed = Energy(lattice)\n",
    "    \n",
    "    r = np.random.uniform(0,1)\n",
    "    \n",
    "    #what energy value is the current and proposed\n",
    "    ind_E_curr = np.where(E_spectrum==E_curr)\n",
    "    ind_E_proposed = np.where(E_spectrum==E_proposed)\n",
    "    \n",
    "    #calculate the density of states\n",
    "    g_curr = log_g[ind_E_curr]\n",
    "    g_proposed = log_g[ind_E_proposed]\n",
    "    \n",
    "    prob_acceptance = np.exp(g_curr - g_proposed) #g_curr/g_proposed\n",
    "    if r < np.minimum(1,prob_acceptance):\n",
    "        E_curr = E_proposed\n",
    "        ind_E_curr = ind_E_proposed\n",
    "        \n",
    "    else:\n",
    "        #reject reflip spin\n",
    "        lattice[proposed_bit] = lattice[proposed_bit]*-1\n",
    "    \n",
    "    histogram[ind_E_curr] += 1\n",
    "    log_g[ind_E_curr] += f #add f because working w natural log, log(g*f) = log(g)+log(f)\n",
    "    if np.min(histogram) > np.mean(histogram)*0.85:\n",
    "        #print(np.min(histogram),np.mean(histogram))\n",
    "        #plt.bar(E_spectrum,histogram,width=4)\n",
    "        histogram = np.zeros_like(E_spectrum)\n",
    "        f *= 0.5\n",
    "        #break"
   ]
  },
  {
   "cell_type": "code",
   "execution_count": 167,
   "id": "9dafa27d",
   "metadata": {},
   "outputs": [
    {
     "data": {
      "text/plain": [
       "<matplotlib.legend.Legend at 0x7f5689093e50>"
      ]
     },
     "execution_count": 167,
     "metadata": {},
     "output_type": "execute_result"
    },
    {
     "data": {
      "image/png": "[encoded data removed]",
      "text/plain": [
       "<Figure size 640x480 with 1 Axes>"
      ]
     },
     "metadata": {},
     "output_type": "display_data"
    }
   ],
   "source": [
    "#plt.plot(E_spectrum/N,log_g)\n",
    "plt.grid()\n",
    "#plt.plot(E_spectrum/N , log_g-log_g[0])\n",
    "\n",
    "g_E = np.exp(log_g-log_g[0])\n",
    "beta = np.linspace(0.5,5,40)\n",
    "\n",
    "def avg_Energy(beta):\n",
    "    Z = np.sum(g_E*np.exp(-beta*E_spectrum))\n",
    "    avg_E = beta/Z * np.sum(g_E*E_spectrum*np.exp(-beta*E_spectrum))\n",
    "    return avg_E\n",
    "\n",
    "def specific_heat(beta):\n",
    "    Z = np.sum(g_E*np.exp(-beta*E_spectrum))\n",
    "    return -2*np.log(Z)/beta**3\n",
    "\n",
    "\n",
    "plt.plot(1/beta, [specific_heat(b) for b in beta])\n",
    "plt.plot(1/beta, N*beta**2/np.cosh(beta)**2, label='theory')\n",
    "plt.legend()"
   ]
  },
  {
   "cell_type": "code",
   "execution_count": 105,
   "id": "95ddefac",
   "metadata": {},
   "outputs": [
    {
     "name": "stdout",
     "output_type": "stream",
     "text": [
      "12.034735102422246\n",
      "1024\n"
     ]
    }
   ],
   "source": [
    "g_E = np.exp(log_g*np.log(2)/log_g[0])\n",
    "\n",
    "print(sum(g_E))\n",
    "print(2**N)"
   ]
  },
  {
   "cell_type": "code",
   "execution_count": 127,
   "id": "97ce9a5d",
   "metadata": {},
   "outputs": [
    {
     "name": "stdout",
     "output_type": "stream",
     "text": [
      "-89.0\n",
      "-81.0\n"
     ]
    }
   ],
   "source": [
    "def Energy(lat,J=1):\n",
    "    #J=1\n",
    "    #sigma = spins, indices refer to spin in array\n",
    "    return sum([-J*lat[(i-1)]*lat[i] for i in range(0,len(lat))])\n",
    "\n",
    "n = 89\n",
    "test = np.ones(n)\n",
    "print(Energy(test))\n",
    "test[0] = -1\n",
    "test[4] = -1\n",
    "print(Energy(test))\n"
   ]
  },
  {
   "cell_type": "code",
   "execution_count": null,
   "id": "e377ffef",
   "metadata": {},
   "outputs": [],
   "source": []
  }
 ],
 "metadata": {
  "kernelspec": {
   "display_name": "comp",
   "language": "python",
   "name": "comp"
  },
  "language_info": {
   "codemirror_mode": {
    "name": "ipython",
    "version": 3
   },
   "file_extension": ".py",
   "mimetype": "text/x-python",
   "name": "python",
   "nbconvert_exporter": "python",
   "pygments_lexer": "ipython3",
   "version": "3.9.16"
  }
 },
 "nbformat": 4,
 "nbformat_minor": 5
}
