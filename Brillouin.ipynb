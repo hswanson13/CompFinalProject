{
 "cells": [
  {
   "cell_type": "code",
   "execution_count": 2,
   "id": "af0e7a06",
   "metadata": {},
   "outputs": [],
   "source": [
    "import numpy as np\n",
    "import matplotlib.pyplot as plt"
   ]
  },
  {
   "cell_type": "code",
   "execution_count": 194,
   "id": "69c59d28",
   "metadata": {},
   "outputs": [
    {
     "data": {
      "image/png": "[encoded data removed]",
      "text/plain": [
       "<Figure size 800x800 with 1 Axes>"
      ]
     },
     "metadata": {},
     "output_type": "display_data"
    }
   ],
   "source": [
    "#given two vectors (arrays)\n",
    "#generate n, k points to make a grid (input a depth)\n",
    "#draw brillouin zones by perpindicular bisectors of the points\n",
    "\n",
    "\n",
    "def convert_to_G(a1,a2): #seems to work correctly, not tested rigorously\n",
    "    M = np.array([[0,-1],\n",
    "                  [1,0]]) #90 deg rotation matix\n",
    "    \n",
    "    a2t = np.matmul(M,a2)\n",
    "    a1t = np.matmul(M,a1)\n",
    "    b1 = 2*np.pi * a2t / (np.dot(a1,a2t))\n",
    "    b2 = 2*np.pi * a1t / (np.dot(a2,a1t))\n",
    "    return np.array([b1, b2])\n",
    "\n",
    "\n",
    "def my_lattice(b1,b2,N):\n",
    "    #my code\n",
    "    mag_b1 = np.sqrt(b1.dot(b1)) #get magnitudes for calculation\n",
    "    mag_b2 = np.sqrt(b2.dot(b2))\n",
    "    theta = np.arccos(b1.dot(b2)/(mag_b1*mag_b2)) #calculate theta using dot product definition\n",
    "    \n",
    "    hs = np.arange(0, (N+1)*mag_b1, mag_b1) #hs runs along x axis, b1 should stay [1,0], x,y\n",
    "    ls = np.arange(0,((N+1)/np.sin(theta)), mag_b2)\n",
    "    #ls = np.arange(0, ((N+1)/np.sin(theta)) * (mag_b1/mag_b2), mag_b2) #used def of parallelogram to make height N*b1\n",
    "    #mult by magnitude of both so hs and ls is essentially the lengths and we do unit vector for direction below\n",
    "\n",
    "    lattice_points = []\n",
    "    for l in ls:\n",
    "        for h in hs:\n",
    "            lattice_points.append(h*b1/mag_b1+l*b2/mag_b2)\n",
    "\n",
    "    lattice_points = np.array(lattice_points)\n",
    "    if b1.dot(b2)!=0:\n",
    "        big_xs = lattice_points[lattice_points[:,0]>=(N)*mag_b1][:,0] - (N)*mag_b1\n",
    "        big_ys = lattice_points[lattice_points[:,0]>=(N)*mag_b1][:,1]\n",
    "        lattice_points[lattice_points[:,0]>=(N)*mag_b1] = np.stack((big_xs, big_ys), axis=-1)       \n",
    "    \n",
    "    return np.array(lattice_points)\n",
    "\n",
    "def lattice(b1, b2, N):\n",
    "    #asked chat gtp to rewrite code with no for loops\n",
    "    mag_b1 = np.sqrt(b1.dot(b1)) #get magnitudes for calculation\n",
    "    mag_b2 = np.sqrt(b2.dot(b2))\n",
    "    theta = np.arccos(b1.dot(b2) / (mag_b1 * mag_b2)) #calculate theta using dot product definition\n",
    "    \n",
    "    hs = np.arange(0, (N+1)*mag_b1, mag_b1) #hs runs along x axis, b1 should stay [1,0], x,y\n",
    "    ls = np.arange(0,((N+1)/np.sin(theta)), mag_b2)\n",
    "    #ls = np.arange(0, ((N+1)/np.sin(theta)) * (mag_b1/mag_b2), mag_b2) #used def of parallelogram to make height N*b1\n",
    "    #mult by magnitude of both so hs and ls is essentially the lengths and we do unit vector for direction below\n",
    "    h_grid, l_grid = np.meshgrid(hs, ls) #create grids of h and l values\n",
    "    lattice_points = h_grid.reshape(-1, 1) * b1/mag_b1 + l_grid.reshape(-1, 1) * b2/mag_b2 #reshape grids and calculate lattice points\n",
    "    \n",
    "    if b1.dot(b2)!=0:\n",
    "        big_xs = lattice_points[lattice_points[:,0]>=(N)*mag_b1][:,0] - (N)*mag_b1\n",
    "        big_ys = lattice_points[lattice_points[:,0]>=(N)*mag_b1][:,1]\n",
    "        lattice_points[lattice_points[:,0]>=(N)*mag_b1] = np.stack((big_xs, big_ys), axis=-1)\n",
    "    \n",
    "    return lattice_points\n",
    "\n",
    "b1 = np.array([1,0])\n",
    "#b2 = np.array([1/2,np.sqrt(3)/2])\n",
    "b2 = np.array([0,2])\n",
    "lats = lattice(b1,b2,10)\n",
    "\n",
    "plt.figure(figsize=(8,8))\n",
    "plt.plot(lats[:,0], lats[:,1], marker='.', color='k', linestyle='none')\n",
    "plt.plot(-lats[:,0], lats[:,1], marker='.', color='k', linestyle='none')\n",
    "plt.plot(-lats[:,0], -lats[:,1], marker='.', color='k', linestyle='none')\n",
    "plt.plot(lats[:,0], -lats[:,1], marker='.', color='k', linestyle='none')\n",
    "#plt.xticks(np.arange(-min(lats[:,0]), max(lats[:,0])+1, 1.0))\n",
    "#plt.yticks(np.arange(-min(lats[:,1]), max(lats[:,1])+1, 1.0))\n",
    "\n",
    "plt.axis(\"equal\")\n",
    "plt.show()"
   ]
  },
  {
   "cell_type": "code",
   "execution_count": null,
   "id": "5c534e0a",
   "metadata": {},
   "outputs": [],
   "source": []
  },
  {
   "cell_type": "code",
   "execution_count": null,
   "id": "b87a9075",
   "metadata": {},
   "outputs": [],
   "source": []
  }
 ],
 "metadata": {
  "kernelspec": {
   "display_name": "comp",
   "language": "python",
   "name": "comp"
  },
  "language_info": {
   "codemirror_mode": {
    "name": "ipython",
    "version": 3
   },
   "file_extension": ".py",
   "mimetype": "text/x-python",
   "name": "python",
   "nbconvert_exporter": "python",
   "pygments_lexer": "ipython3",
   "version": "3.9.16"
  }
 },
 "nbformat": 4,
 "nbformat_minor": 5
}
