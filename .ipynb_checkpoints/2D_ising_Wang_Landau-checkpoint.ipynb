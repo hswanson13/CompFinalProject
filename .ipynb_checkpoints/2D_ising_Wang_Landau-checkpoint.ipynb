{
 "cells": [
  {
   "cell_type": "code",
   "execution_count": 1,
   "id": "7d6369b0",
   "metadata": {},
   "outputs": [],
   "source": [
    "import numpy as np\n",
    "import matplotlib.pyplot as plt"
   ]
  },
  {
   "cell_type": "code",
   "execution_count": 66,
   "id": "6b500f67",
   "metadata": {},
   "outputs": [],
   "source": [
    "#get energy function for 2D ising\n",
    "def Energy(lat,J=1):\n",
    "    \n",
    "    def E_along(row,J=1):\n",
    "        return sum([-J*row[(i+1)]*row[i] for i in range(0,len(row)-1)])\n",
    "    \n",
    "    E_lat = sum([E_along(row) for row in lat])\n",
    "    E_lat_T = sum([E_along(row) for row in lat.T])\n",
    "    return E_lat + E_lat_T\n",
    "\n",
    "#figure out energy spectrum\n",
    "def calc_E_spectrum(n):\n",
    "    n_squared = n**2\n",
    "    #create flat lattice and square lattice for minimum energy\n",
    "    min_lat_flat = np.array([1]*n_squared)\n",
    "    min_lat = min_lat_flat.reshape((n,n))\n",
    "    Emin = float(Energy(min_lat))\n",
    "    \n",
    "    #Max energy is every other spin is flipped\n",
    "    min_lat_flat[::2] = -1\n",
    "    max_lat = min_lat_flat.reshape((n,n))\n",
    "    if n%2 == 0:\n",
    "        max_lat[::2] = max_lat[::2]*-1\n",
    "    Emax = float(Energy(max_lat))\n",
    "\n",
    "    #flip a spin to see how it is discritized\n",
    "    flip_lat = np.array([-1] + [1]*(n_squared - 1)).reshape((n,n))\n",
    "    Eflip = Energy(flip_lat)\n",
    "    \n",
    "    #calculate the change in energy\n",
    "    dE = (Eflip-Emin)/2\n",
    "    \n",
    "    #generate the spectrum\n",
    "    print(f'Emax = {Emax}, Emin = {Emin}, dE = {dE}')\n",
    "    E_spectrum = np.arange(Emin,Emax+dE,dE)\n",
    "    return np.delete(E_spectrum, [1,-2])\n"
   ]
  },
  {
   "cell_type": "code",
   "execution_count": 81,
   "id": "80c9478b",
   "metadata": {},
   "outputs": [
    {
     "name": "stdout",
     "output_type": "stream",
     "text": [
      "Emax = 180.0, Emin = -180.0, dE = 2.0\n",
      "[-180. -176. -174. -172. -170. -168. -166. -164. -162. -160. -158. -156.\n",
      " -154. -152. -150. -148. -146. -144. -142. -140. -138. -136. -134. -132.\n",
      " -130. -128. -126. -124. -122. -120. -118. -116. -114. -112. -110. -108.\n",
      " -106. -104. -102. -100.  -98.  -96.  -94.  -92.  -90.  -88.  -86.  -84.\n",
      "  -82.  -80.  -78.  -76.  -74.  -72.  -70.  -68.  -66.  -64.  -62.  -60.\n",
      "  -58.  -56.  -54.  -52.  -50.  -48.  -46.  -44.  -42.  -40.  -38.  -36.\n",
      "  -34.  -32.  -30.  -28.  -26.  -24.  -22.  -20.  -18.  -16.  -14.  -12.\n",
      "  -10.   -8.   -6.   -4.   -2.    0.    2.    4.    6.    8.   10.   12.\n",
      "   14.   16.   18.   20.   22.   24.   26.   28.   30.   32.   34.   36.\n",
      "   38.   40.   42.   44.   46.   48.   50.   52.   54.   56.   58.   60.\n",
      "   62.   64.   66.   68.   70.   72.   74.   76.   78.   80.   82.   84.\n",
      "   86.   88.   90.   92.   94.   96.   98.  100.  102.  104.  106.  108.\n",
      "  110.  112.  114.  116.  118.  120.  122.  124.  126.  128.  130.  132.\n",
      "  134.  136.  138.  140.  142.  144.  146.  148.  150.  152.  154.  156.\n",
      "  158.  160.  162.  164.  166.  168.  170.  172.  174.  176.  180.]\n",
      "success 213960.0\n",
      "success 356292.0\n",
      "success 458434.0\n",
      "success 516266.0\n",
      "success 576548.0\n",
      "success 688424.0\n",
      "success 858758.0\n",
      "success 1020068.0\n",
      "success 1183228.0\n",
      "success 1497710.0\n",
      "success 1744038.0\n",
      "success 1850396.0\n",
      "success 1961024.0\n",
      "success 2338250.0\n",
      "success 2923508.0\n",
      "success 3429670.0\n",
      "success 3649044.0\n",
      "success 3805326.0\n",
      "success 4102840.0\n",
      "success 4191998.0\n",
      "success 5392754.0\n",
      "success 5913870.0\n",
      "success 6360306.0\n",
      "success 7190328.0\n",
      "success 7427338.0\n",
      "success 8427232.0\n",
      "success 8603392.0\n"
     ]
    }
   ],
   "source": [
    "N = 10\n",
    "N_squared = N**2\n",
    "lattice = (2*np.random.randint(2,size=(1,N_squared))[0]-1).reshape((N,N))\n",
    "\n",
    "E_spectrum = calc_E_spectrum(N)\n",
    "print(E_spectrum)\n",
    "E_curr = Energy(lattice)\n",
    "\n",
    "#density of states has form of energy spectrum!\n",
    "log_g = np.zeros_like(E_spectrum) #would be all 0, starting g at 1\n",
    "\n",
    "#initialize histogram -> what will be judged if flat\n",
    "histogram = np.zeros_like(E_spectrum)\n",
    "\n",
    "#modification factor\n",
    "f = 1 #ln(e) = 1\n",
    "tot = 0\n",
    "while f>10**-8:\n",
    "    #chooose random energy\n",
    "    prop_bits = (np.random.randint(0,N), np.random.randint(0,N))\n",
    "    lattice[prop_bits] = lattice[prop_bits]*-1\n",
    "    E_proposed = Energy(lattice)\n",
    "    \n",
    "    #where is the energy value for the current and proposed\n",
    "    ind_E_curr = np.where(E_spectrum==E_curr)[0][0]\n",
    "    ind_E_proposed = np.where(E_spectrum==E_proposed)[0][0]\n",
    "    \n",
    "    #calculate the density of states\n",
    "    g_curr = log_g[ind_E_curr]\n",
    "    g_proposed = log_g[ind_E_proposed]\n",
    "    \n",
    "    #calc prob of acceptance\n",
    "    prob_acceptance = np.exp(g_curr - g_proposed) #g_curr/g_proposed\n",
    "    r = np.random.uniform(0,1)\n",
    "    if r < np.minimum(1,prob_acceptance):\n",
    "        E_curr = E_proposed\n",
    "        ind_E_curr = ind_E_proposed\n",
    "        \n",
    "    else:\n",
    "        #reject reflip spin\n",
    "        lattice[prop_bits] = lattice[prop_bits]*-1\n",
    "    \n",
    "    histogram[ind_E_curr] += 1\n",
    "    log_g[ind_E_curr] += f #add f because working w natural log, log(g*f) = log(g)+log(f)\n",
    "    tot+=1\n",
    "    if np.min(histogram) >= np.mean(histogram)*0.2:\n",
    "        tot+=sum(histogram)\n",
    "        print('success', tot)\n",
    "        histogram = np.zeros_like(E_spectrum)\n",
    "        f *= 0.5"
   ]
  },
  {
   "cell_type": "code",
   "execution_count": 82,
   "id": "95989379",
   "metadata": {},
   "outputs": [
    {
     "data": {
      "text/plain": [
       "[<matplotlib.lines.Line2D at 0x7fac279d7a90>]"
      ]
     },
     "execution_count": 82,
     "metadata": {},
     "output_type": "execute_result"
    },
    {
     "data": {
      "image/png": "[encoded data removed]",
      "text/plain": [
       "<Figure size 640x480 with 1 Axes>"
      ]
     },
     "metadata": {},
     "output_type": "display_data"
    }
   ],
   "source": [
    "plt.plot(E_spectrum,log_g-log_g[0]+np.log(2))"
   ]
  },
  {
   "cell_type": "code",
   "execution_count": null,
   "id": "3013fb14",
   "metadata": {},
   "outputs": [],
   "source": []
  }
 ],
 "metadata": {
  "kernelspec": {
   "display_name": "comp",
   "language": "python",
   "name": "comp"
  },
  "language_info": {
   "codemirror_mode": {
    "name": "ipython",
    "version": 3
   },
   "file_extension": ".py",
   "mimetype": "text/x-python",
   "name": "python",
   "nbconvert_exporter": "python",
   "pygments_lexer": "ipython3",
   "version": "3.9.16"
  }
 },
 "nbformat": 4,
 "nbformat_minor": 5
}
