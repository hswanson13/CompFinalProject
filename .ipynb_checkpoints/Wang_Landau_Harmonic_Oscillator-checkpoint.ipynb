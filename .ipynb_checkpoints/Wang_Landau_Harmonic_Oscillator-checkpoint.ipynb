{
 "cells": [
  {
   "cell_type": "code",
   "execution_count": 1,
   "id": "c2ecbbe4",
   "metadata": {},
   "outputs": [],
   "source": [
    "import numpy as np\n",
    "import matplotlib.pyplot as plt"
   ]
  },
  {
   "cell_type": "code",
   "execution_count": 6,
   "id": "ede45b5c",
   "metadata": {},
   "outputs": [
    {
     "name": "stdout",
     "output_type": "stream",
     "text": [
      "[-9. -7. -5. -3. -1.  1.  3.  5.  7.  9.]\n",
      "455.0\n",
      "608.0\n",
      "433.0\n",
      "1608.0\n",
      "2006.0\n",
      "1926.0\n",
      "2079.0\n",
      "3413.0\n",
      "7693.0\n",
      "22534.0\n",
      "8335.0\n",
      "7287.0\n",
      "6988.0\n",
      "5228.0\n",
      "25074.0\n",
      "5014.0\n",
      "4270.0\n",
      "7015.0\n",
      "6907.0\n",
      "3975.0\n",
      "5056.0\n",
      "11252.0\n",
      "9401.0\n",
      "1655.0\n",
      "17334.0\n",
      "3893.0\n",
      "6598.0\n"
     ]
    }
   ],
   "source": [
    "def Energy(lat,J=1):\n",
    "    #J=1\n",
    "    #sigma = spins, indices refer to spin in array\n",
    "    return sum([-J*lat[(i+1)]*lat[i] for i in range(0,len(lat)-1)])\n",
    "\n",
    "N=10 #atoms\n",
    "lattice = 2*np.random.randint(2,size=(1,N))[0]-1   #1 for up,-1 for down\n",
    "\n",
    "E_curr = Energy(lattice)\n",
    "\n",
    "#getting spectrum of energies for 1D lattice\n",
    "config = np.array([1]*N)\n",
    "Emin = float(Energy(config))\n",
    "config[::2] = -1 #now make them every other for max energy\n",
    "Emax = float(Energy(config))\n",
    "Eflip = Energy(np.array([-1]+[1]*(N-1)))\n",
    "dE = Eflip-Emin\n",
    "E_spectrum = np.arange(Emin,Emax+dE,dE)\n",
    "print(E_spectrum)\n",
    "#density of states has form of energy spectrum!\n",
    "log_g = np.zeros_like(E_spectrum) #would be all 0, starting g at 1\n",
    "\n",
    "#initialize histogram -> what will be judged if flat\n",
    "histogram = np.zeros_like(E_spectrum)\n",
    "\n",
    "#modification factor\n",
    "f = 1 #ln(e) = 1\n",
    "tot = 0\n",
    "while f>10**-8:\n",
    "    #chooose random energy\n",
    "    proposed_bit = np.random.randint(0,N)\n",
    "    lattice[proposed_bit] = lattice[proposed_bit]*-1\n",
    "    E_proposed = Energy(lattice)\n",
    "    \n",
    "    #what energy value is the current and proposed\n",
    "    ind_E_curr = np.where(E_spectrum==E_curr)[0][0]\n",
    "    ind_E_proposed = np.where(E_spectrum==E_proposed)[0][0]\n",
    "    \n",
    "    #calculate the density of states\n",
    "    g_curr = log_g[ind_E_curr]\n",
    "    g_proposed = log_g[ind_E_proposed]\n",
    "    \n",
    "    #calc prob of acceptance\n",
    "    prob_acceptance = np.exp(g_curr - g_proposed) #g_curr/g_proposed\n",
    "    r = np.random.uniform(0,1)\n",
    "    if r < np.minimum(1,prob_acceptance):\n",
    "        E_curr = E_proposed\n",
    "        ind_E_curr = ind_E_proposed\n",
    "        \n",
    "    else:\n",
    "        #reject reflip spin\n",
    "        lattice[proposed_bit] = lattice[proposed_bit]*-1\n",
    "    \n",
    "    histogram[ind_E_curr] += 1\n",
    "    log_g[ind_E_curr] += f #add f because working w natural log, log(g*f) = log(g)+log(f)\n",
    "    if np.min(histogram) > np.mean(histogram)*0.85:\n",
    "        #print('success')\n",
    "        print(sum(histogram))\n",
    "        tot+=sum(histogram)\n",
    "        histogram = np.zeros_like(E_spectrum)\n",
    "        f *= 0.5\n",
    "        \n",
    "        "
   ]
  },
  {
   "cell_type": "code",
   "execution_count": 13,
   "id": "9dafa27d",
   "metadata": {},
   "outputs": [
    {
     "name": "stdout",
     "output_type": "stream",
     "text": [
      "178037.0\n",
      "1024\n",
      "1143.4807283156667\n"
     ]
    },
    {
     "data": {
      "image/png": "[encoded data removed]",
      "text/plain": [
       "<Figure size 640x480 with 1 Axes>"
      ]
     },
     "metadata": {},
     "output_type": "display_data"
    }
   ],
   "source": [
    "import itertools\n",
    "print(tot)\n",
    "\n",
    "plt.plot(E_spectrum,np.exp(log_g-log_g[0]))\n"
   ]
  },
  {
   "cell_type": "code",
   "execution_count": 44,
   "id": "95ddefac",
   "metadata": {},
   "outputs": [
    {
     "name": "stdout",
     "output_type": "stream",
     "text": [
      "-5.0\n",
      "5.0\n",
      "-3.0\n",
      "2.0\n",
      "-5.0\n",
      "-3.0\n"
     ]
    }
   ],
   "source": [
    "def Energy2(lat,J=1):\n",
    "    #J=1\n",
    "    #sigma = spins, indices refer to spin in array\n",
    "    return sum([-J*lat[(i-1)]*lat[i] for i in range(0,len(lat))])/2\n",
    "N=10\n",
    "config = np.array([1]*N)\n",
    "Emin = float(Energy2(config))\n",
    "config[::2] = -1 #now make them every other for max energy\n",
    "Emax = float(Energy2(config))\n",
    "Eflip = Energy2(np.array([-1]+[1]*(N-1)))\n",
    "dE = Eflip-Emin\n",
    "#E_spectrum = np.arange(Emin,Emax+dE,dE)\n",
    "\n",
    "print(Emin)\n",
    "print(Emax)\n",
    "print(Eflip)\n",
    "print(dE)\n",
    "\n",
    "test1 = np.ones(N)\n",
    "print(Energy2(test1))\n",
    "test1[0] = -1\n",
    "print(Energy2(test1))"
   ]
  },
  {
   "cell_type": "code",
   "execution_count": 127,
   "id": "97ce9a5d",
   "metadata": {},
   "outputs": [
    {
     "name": "stdout",
     "output_type": "stream",
     "text": [
      "-89.0\n",
      "-81.0\n"
     ]
    }
   ],
   "source": [
    "#testing energy spectrum\n",
    "\n",
    "def Energy(lat,J=1):\n",
    "    #J=1\n",
    "    #sigma = spins, indices refer to spin in array\n",
    "    return sum([-J*lat[(i-1)]*lat[i] for i in range(0,len(lat))])\n",
    "\n",
    "n = 89\n",
    "test = np.ones(n)\n",
    "print(Energy(test))\n",
    "test[0] = -1\n",
    "test[4] = -1\n",
    "print(Energy(test))\n"
   ]
  },
  {
   "cell_type": "code",
   "execution_count": null,
   "id": "e377ffef",
   "metadata": {},
   "outputs": [],
   "source": []
  }
 ],
 "metadata": {
  "kernelspec": {
   "display_name": "comp",
   "language": "python",
   "name": "comp"
  },
  "language_info": {
   "codemirror_mode": {
    "name": "ipython",
    "version": 3
   },
   "file_extension": ".py",
   "mimetype": "text/x-python",
   "name": "python",
   "nbconvert_exporter": "python",
   "pygments_lexer": "ipython3",
   "version": "3.9.16"
  }
 },
 "nbformat": 4,
 "nbformat_minor": 5
}
